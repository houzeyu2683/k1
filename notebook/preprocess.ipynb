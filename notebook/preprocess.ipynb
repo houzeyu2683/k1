{
 "cells": [
  {
   "cell_type": "code",
   "execution_count": 71,
   "metadata": {},
   "outputs": [],
   "source": [
    "import os\n",
    "import pandas\n",
    "import tqdm\n",
    "import functools\n",
    "from sklearn import preprocessing"
   ]
  },
  {
   "cell_type": "code",
   "execution_count": 72,
   "metadata": {},
   "outputs": [],
   "source": [
    "source = '../resource/kaggle/sample/csv'\n",
    "table = {\n",
    "    'article':pandas.read_csv(os.path.join(source, 'articles.csv'), dtype=str),\n",
    "    'customer':pandas.read_csv(os.path.join(source, 'customers.csv'), dtype=str),\n",
    "    'transaction':pandas.read_csv(os.path.join(source, 'transactions_train.csv'), dtype=str),\n",
    "    'submission':pandas.read_csv(os.path.join(source, 'sample_submission.csv'), dtype=str)\n",
    "}"
   ]
  },
  {
   "cell_type": "markdown",
   "metadata": {},
   "source": [
    "Fill the missing value."
   ]
  },
  {
   "cell_type": "code",
   "execution_count": 73,
   "metadata": {},
   "outputs": [],
   "source": [
    "table['article']['detail_desc'].fillna('miss_detail_desc', inplace=True)\n",
    "table['customer']['FN'].fillna(\"0.0\", inplace=True)\n",
    "table['customer']['Active'].fillna(\"0.0\", inplace=True)\n",
    "table['customer']['fashion_news_frequency'].fillna(\"NONE\", inplace=True)\n",
    "table['customer']['age'].fillna(\"-1\", inplace=True)\n",
    "table['customer']['postal_code'].fillna('miss_postal_code', inplace=True)"
   ]
  },
  {
   "cell_type": "markdown",
   "metadata": {},
   "source": [
    "Label encode the category variable, normalization of numerical variable."
   ]
  },
  {
   "cell_type": "markdown",
   "metadata": {},
   "source": [
    "Claim the column."
   ]
  },
  {
   "cell_type": "code",
   "execution_count": 74,
   "metadata": {},
   "outputs": [],
   "source": [
    "token = {\"<padding>\":0, \"<start>\":1}\n",
    "claim = {\n",
    "    'customer_id':'customer_id', \n",
    "    'length':'length', \n",
    "    'FN':\"p1\", \n",
    "    'Active':'p2', \n",
    "    'club_member_status':\"p3\",\n",
    "    'fashion_news_frequency':'p4', \n",
    "    'age':'p5', \n",
    "    'postal_code':'p6', \n",
    "    'product_code':'b1', \n",
    "    'prod_name':'b2', \n",
    "    'product_type_no':'b3',\n",
    "    'product_type_name':'b4', \n",
    "    'product_group_name':'b5', \n",
    "    'graphical_appearance_no':'b6',\n",
    "    'graphical_appearance_name':\"b7\", \n",
    "    'colour_group_code':\"b8\",\n",
    "    'colour_group_name':\"b9\",\n",
    "    'perceived_colour_value_id':'b10', \n",
    "    'perceived_colour_value_name':\"b11\",\n",
    "    'perceived_colour_master_id':\"b12\", \n",
    "    'perceived_colour_master_name':\"b13\",\n",
    "    'department_no':'b14', \n",
    "    'department_name':\"b15\", \n",
    "    'index_code':\"b16\", \n",
    "    'index_name':\"b17\",\n",
    "    'index_group_no':\"b18\", \n",
    "    'index_group_name':\"b19\", \n",
    "    'section_no':\"b20\", \n",
    "    'section_name':\"b21\",\n",
    "    'garment_group_no':\"b22\", \n",
    "    'garment_group_name':\"b23\", \n",
    "    'detail_desc':\"b24\",\n",
    "    'article_label':\"b25\",\n",
    "    'price':'r1',\n",
    "    'sales_channel_id':'r2', \n",
    "}"
   ]
  },
  {
   "cell_type": "code",
   "execution_count": 75,
   "metadata": {},
   "outputs": [],
   "source": [
    "table['article'][\"article_label\"] = table['article']['article_id']\n",
    "for key in table['article']:\n",
    "\n",
    "    if(key=='article_id'): continue\n",
    "\n",
    "    skip = len(token)\n",
    "    engine = preprocessing.LabelEncoder()\n",
    "    engine.fit(table['article'][key])\n",
    "    value = engine.transform(table['article'][key])\n",
    "    table['article'][key] = value + skip\n",
    "    continue"
   ]
  },
  {
   "cell_type": "code",
   "execution_count": 76,
   "metadata": {},
   "outputs": [],
   "source": [
    "table['customer']['FN'] = table['customer']['FN'].astype(float)\n",
    "table['customer']['Active'] = table['customer']['Active'].astype(float)\n",
    "table['customer']['age'] = table['customer']['age'].astype(float) / 100\n",
    "for key in table['customer']:\n",
    "\n",
    "    if(key in ['customer_id', \"FN\", \"Active\", 'age']): continue\n",
    "\n",
    "    skip = 0\n",
    "    engine = preprocessing.LabelEncoder()\n",
    "    engine.fit(table['customer'][key])\n",
    "    value = engine.transform(table['customer'][key])\n",
    "    table['customer'][key] = value + skip\n",
    "    continue"
   ]
  },
  {
   "cell_type": "code",
   "execution_count": 77,
   "metadata": {},
   "outputs": [],
   "source": [
    "table['transaction']['t_dat'] = pandas.to_datetime(table['transaction']['t_dat'])\n",
    "value = table['transaction']['price'].astype(float).copy()\n",
    "value = value / value.max()\n",
    "table['transaction']['price'] = value\n",
    "for key in table['transaction']:\n",
    "    \n",
    "    if(key in ['t_dat', \"customer_id\", \"article_id\", 'price']): continue\n",
    "\n",
    "    skip = len(token)\n",
    "    engine = preprocessing.LabelEncoder()\n",
    "    engine.fit(table['transaction'][key])\n",
    "    value = engine.transform(table['transaction'][key])\n",
    "    table['transaction'][key] = value + skip\n",
    "    continue"
   ]
  },
  {
   "cell_type": "code",
   "execution_count": 78,
   "metadata": {},
   "outputs": [
    {
     "name": "stdout",
     "output_type": "stream",
     "text": [
      "FN => \u001b[95mp1\u001b[00m | max:1.0 min:0.0 unique:2\n",
      "Active => \u001b[95mp2\u001b[00m | max:1.0 min:0.0 unique:2\n",
      "club_member_status => \u001b[95mp3\u001b[00m | max:3 min:0 unique:4\n",
      "fashion_news_frequency => \u001b[95mp4\u001b[00m | max:2 min:0 unique:3\n",
      "age => \u001b[95mp5\u001b[00m | max:0.98 min:-0.01 unique:78\n",
      "postal_code => \u001b[95mp6\u001b[00m | max:88828 min:0 unique:88829\n"
     ]
    }
   ],
   "source": [
    "for column in table['customer']: \n",
    "    \n",
    "    if(column in [\"customer_id\"]): continue\n",
    "\n",
    "    max = round(table['customer'][column].max(), 3)\n",
    "    min = round(table['customer'][column].min(), 3)\n",
    "    unique = table['customer'][column].nunique()\n",
    "    print(\"{} => \\033[95m{}\\033[00m | max:{} min:{} unique:{}\".format(column, claim[column], max, min, unique))\n",
    "    pass"
   ]
  },
  {
   "cell_type": "code",
   "execution_count": 79,
   "metadata": {},
   "outputs": [
    {
     "name": "stdout",
     "output_type": "stream",
     "text": [
      "product_code => \u001b[95mb1\u001b[00m | max:13038 min:2 unique:13037\n",
      "prod_name => \u001b[95mb2\u001b[00m | max:13228 min:2 unique:13227\n",
      "product_type_no => \u001b[95mb3\u001b[00m | max:101 min:2 unique:100\n",
      "product_type_name => \u001b[95mb4\u001b[00m | max:100 min:2 unique:99\n",
      "product_group_name => \u001b[95mb5\u001b[00m | max:16 min:2 unique:15\n",
      "graphical_appearance_no => \u001b[95mb6\u001b[00m | max:30 min:2 unique:29\n",
      "graphical_appearance_name => \u001b[95mb7\u001b[00m | max:30 min:2 unique:29\n",
      "colour_group_code => \u001b[95mb8\u001b[00m | max:51 min:2 unique:50\n",
      "colour_group_name => \u001b[95mb9\u001b[00m | max:51 min:2 unique:50\n",
      "perceived_colour_value_id => \u001b[95mb10\u001b[00m | max:9 min:2 unique:8\n",
      "perceived_colour_value_name => \u001b[95mb11\u001b[00m | max:9 min:2 unique:8\n",
      "perceived_colour_master_id => \u001b[95mb12\u001b[00m | max:20 min:2 unique:19\n",
      "perceived_colour_master_name => \u001b[95mb13\u001b[00m | max:20 min:2 unique:19\n",
      "department_no => \u001b[95mb14\u001b[00m | max:276 min:2 unique:275\n",
      "department_name => \u001b[95mb15\u001b[00m | max:229 min:2 unique:228\n",
      "index_code => \u001b[95mb16\u001b[00m | max:11 min:2 unique:10\n",
      "index_name => \u001b[95mb17\u001b[00m | max:11 min:2 unique:10\n",
      "index_group_no => \u001b[95mb18\u001b[00m | max:6 min:2 unique:5\n",
      "index_group_name => \u001b[95mb19\u001b[00m | max:6 min:2 unique:5\n",
      "section_no => \u001b[95mb20\u001b[00m | max:57 min:2 unique:56\n",
      "section_name => \u001b[95mb21\u001b[00m | max:57 min:2 unique:56\n",
      "garment_group_no => \u001b[95mb22\u001b[00m | max:22 min:2 unique:21\n",
      "garment_group_name => \u001b[95mb23\u001b[00m | max:22 min:2 unique:21\n",
      "detail_desc => \u001b[95mb24\u001b[00m | max:12150 min:2 unique:12149\n",
      "article_label => \u001b[95mb25\u001b[00m | max:24737 min:2 unique:24736\n"
     ]
    }
   ],
   "source": [
    "for column in table['article']: \n",
    "    \n",
    "    if(column in [\"article_id\"]): continue\n",
    "    max = round(table['article'][column].max(), 3)\n",
    "    min = round(table['article'][column].min(), 3)\n",
    "    unique = table['article'][column].nunique()\n",
    "    print(\"{} => \\033[95m{}\\033[00m | max:{} min:{} unique:{}\".format(column, claim[column], max, min, unique))\n",
    "    pass"
   ]
  },
  {
   "cell_type": "code",
   "execution_count": 80,
   "metadata": {},
   "outputs": [
    {
     "name": "stdout",
     "output_type": "stream",
     "text": [
      "\u001b[95mprice\u001b[00m => \u001b[91mr1\u001b[00m | max:1.0 min:0.001 unique:2019\n",
      "\u001b[95msales_channel_id\u001b[00m => \u001b[91mr2\u001b[00m | max:3 min:2 unique:2\n"
     ]
    }
   ],
   "source": [
    "for column in table['transaction']: \n",
    "    \n",
    "    if(column in ['t_dat', 'customer_id', 'article_id']): continue\n",
    "\n",
    "    max = round(table['transaction'][column].max(),3)\n",
    "    min = round(table['transaction'][column].min(),3)\n",
    "    unique = table['transaction'][column].nunique()\n",
    "    print(\"\\033[95m{}\\033[00m => \\033[91m{}\\033[00m | max:{} min:{} unique:{}\".format(column, claim[column], max, min, unique))\n",
    "    continue"
   ]
  },
  {
   "cell_type": "markdown",
   "metadata": {},
   "source": [
    "Feature with personality and behavior."
   ]
  },
  {
   "cell_type": "code",
   "execution_count": 81,
   "metadata": {},
   "outputs": [],
   "source": [
    "paste = lambda x: \" \".join(x)"
   ]
  },
  {
   "cell_type": "code",
   "execution_count": 82,
   "metadata": {},
   "outputs": [],
   "source": [
    "sequence = []"
   ]
  },
  {
   "cell_type": "code",
   "execution_count": 83,
   "metadata": {},
   "outputs": [],
   "source": [
    "table['transaction']['length'] = table['transaction']['customer_id']\n",
    "sequence += [table['transaction'].groupby('customer_id').count().reset_index()[['customer_id', 'length']]]"
   ]
  },
  {
   "cell_type": "code",
   "execution_count": 84,
   "metadata": {},
   "outputs": [],
   "source": [
    "table['transaction']['price'] = table['transaction']['price'].astype(str)\n",
    "table['transaction']['sales_channel_id'] = table['transaction']['sales_channel_id'].astype(str)\n",
    "sequence += [table['transaction'].groupby(['customer_id', 't_dat'])['price'].apply(paste).reset_index().groupby(['customer_id'])['price'].apply(paste).reset_index()]\n",
    "sequence += [table['transaction'].groupby(['customer_id', 't_dat'])['sales_channel_id'].apply(paste).reset_index().groupby(['customer_id'])['sales_channel_id'].apply(paste).reset_index()]"
   ]
  },
  {
   "cell_type": "code",
   "execution_count": 85,
   "metadata": {},
   "outputs": [
    {
     "name": "stderr",
     "output_type": "stream",
     "text": [
      "100%|██████████| 26/26 [02:09<00:00,  4.99s/it]\n"
     ]
    }
   ],
   "source": [
    "for key in tqdm.tqdm(table['article'].keys()):\n",
    "\n",
    "    if(key=='article_id'): continue\n",
    "\n",
    "    table['article'][key] = table['article'][key].astype(str)\n",
    "    selection = table['transaction'][['t_dat', \"customer_id\", \"article_id\"]].copy()\n",
    "    selection = pandas.merge(selection, table['article'][[\"article_id\", key]], on=\"article_id\", how='inner')\n",
    "    sequence += [selection.groupby(['customer_id', 't_dat'])[key].apply(paste).reset_index().groupby(['customer_id'])[key].apply(paste).reset_index()]\n",
    "    continue"
   ]
  },
  {
   "cell_type": "code",
   "execution_count": 86,
   "metadata": {},
   "outputs": [
    {
     "data": {
      "text/html": [
       "<div>\n",
       "<style scoped>\n",
       "    .dataframe tbody tr th:only-of-type {\n",
       "        vertical-align: middle;\n",
       "    }\n",
       "\n",
       "    .dataframe tbody tr th {\n",
       "        vertical-align: top;\n",
       "    }\n",
       "\n",
       "    .dataframe thead th {\n",
       "        text-align: right;\n",
       "    }\n",
       "</style>\n",
       "<table border=\"1\" class=\"dataframe\">\n",
       "  <thead>\n",
       "    <tr style=\"text-align: right;\">\n",
       "      <th></th>\n",
       "      <th>customer_id</th>\n",
       "      <th>length</th>\n",
       "      <th>price</th>\n",
       "      <th>sales_channel_id</th>\n",
       "      <th>product_code</th>\n",
       "      <th>prod_name</th>\n",
       "      <th>product_type_no</th>\n",
       "      <th>product_type_name</th>\n",
       "      <th>product_group_name</th>\n",
       "      <th>graphical_appearance_no</th>\n",
       "      <th>...</th>\n",
       "      <th>index_code</th>\n",
       "      <th>index_name</th>\n",
       "      <th>index_group_no</th>\n",
       "      <th>index_group_name</th>\n",
       "      <th>section_no</th>\n",
       "      <th>section_name</th>\n",
       "      <th>garment_group_no</th>\n",
       "      <th>garment_group_name</th>\n",
       "      <th>detail_desc</th>\n",
       "      <th>article_label</th>\n",
       "    </tr>\n",
       "  </thead>\n",
       "  <tbody>\n",
       "    <tr>\n",
       "      <th>0</th>\n",
       "      <td>0000423b00ade91418cceaf3b26c6af3dd342b51fd051e...</td>\n",
       "      <td>7</td>\n",
       "      <td>0.11458452722063038 0.0429512893982808 0.05727...</td>\n",
       "      <td>3 3 3 3 3 3 3</td>\n",
       "      <td>8731 4290 8654 1585 11105 11585 4290</td>\n",
       "      <td>2035 8441 9450 11130 5767 5288 8441</td>\n",
       "      <td>30 22 16 9 9 9 22</td>\n",
       "      <td>68 23 66 77 77 77 23</td>\n",
       "      <td>6 5 7 7 7 7 5</td>\n",
       "      <td>18 25 12 18 18 18 25</td>\n",
       "      <td>...</td>\n",
       "      <td>5 5 2 5 2 2 5</td>\n",
       "      <td>6 6 8 6 8 8 6</td>\n",
       "      <td>3 3 2 3 2 2 3</td>\n",
       "      <td>3 3 4 3 4 4 3</td>\n",
       "      <td>36 36 4 36 4 2 36</td>\n",
       "      <td>14 14 46 14 46 54 14</td>\n",
       "      <td>12 13 10 4 4 4 13</td>\n",
       "      <td>14 5 3 9 9 9 5</td>\n",
       "      <td>7841 8513 7670 4448 5514 4393 8513</td>\n",
       "      <td>17865 9584 17725 3974 21745 22544 9584</td>\n",
       "    </tr>\n",
       "    <tr>\n",
       "      <th>1</th>\n",
       "      <td>000058a12d5b43e67d225668fa1f8d618c13dc232df0ca...</td>\n",
       "      <td>3</td>\n",
       "      <td>0.08593123209169053 0.051547277936962746 0.085...</td>\n",
       "      <td>3 3 3</td>\n",
       "      <td>10851 2075 10851</td>\n",
       "      <td>787 9744 787</td>\n",
       "      <td>33 52 33</td>\n",
       "      <td>90 13 90</td>\n",
       "      <td>14 14 14</td>\n",
       "      <td>18 18 18</td>\n",
       "      <td>...</td>\n",
       "      <td>3 3 3</td>\n",
       "      <td>9 9 9</td>\n",
       "      <td>2 2 2</td>\n",
       "      <td>4 4 4</td>\n",
       "      <td>43 43 43</td>\n",
       "      <td>48 48 48</td>\n",
       "      <td>16 16 16</td>\n",
       "      <td>20 20 20</td>\n",
       "      <td>4821 4835 4821</td>\n",
       "      <td>21308 4947 21308</td>\n",
       "    </tr>\n",
       "  </tbody>\n",
       "</table>\n",
       "<p>2 rows × 29 columns</p>\n",
       "</div>"
      ],
      "text/plain": [
       "                                         customer_id  length  \\\n",
       "0  0000423b00ade91418cceaf3b26c6af3dd342b51fd051e...       7   \n",
       "1  000058a12d5b43e67d225668fa1f8d618c13dc232df0ca...       3   \n",
       "\n",
       "                                               price sales_channel_id  \\\n",
       "0  0.11458452722063038 0.0429512893982808 0.05727...    3 3 3 3 3 3 3   \n",
       "1  0.08593123209169053 0.051547277936962746 0.085...            3 3 3   \n",
       "\n",
       "                           product_code                            prod_name  \\\n",
       "0  8731 4290 8654 1585 11105 11585 4290  2035 8441 9450 11130 5767 5288 8441   \n",
       "1                      10851 2075 10851                         787 9744 787   \n",
       "\n",
       "     product_type_no     product_type_name product_group_name  \\\n",
       "0  30 22 16 9 9 9 22  68 23 66 77 77 77 23      6 5 7 7 7 7 5   \n",
       "1           33 52 33              90 13 90           14 14 14   \n",
       "\n",
       "  graphical_appearance_no  ...     index_code     index_name index_group_no  \\\n",
       "0    18 25 12 18 18 18 25  ...  5 5 2 5 2 2 5  6 6 8 6 8 8 6  3 3 2 3 2 2 3   \n",
       "1                18 18 18  ...          3 3 3          9 9 9          2 2 2   \n",
       "\n",
       "  index_group_name         section_no          section_name  \\\n",
       "0    3 3 4 3 4 4 3  36 36 4 36 4 2 36  14 14 46 14 46 54 14   \n",
       "1            4 4 4           43 43 43              48 48 48   \n",
       "\n",
       "    garment_group_no garment_group_name                         detail_desc  \\\n",
       "0  12 13 10 4 4 4 13     14 5 3 9 9 9 5  7841 8513 7670 4448 5514 4393 8513   \n",
       "1           16 16 16           20 20 20                      4821 4835 4821   \n",
       "\n",
       "                            article_label  \n",
       "0  17865 9584 17725 3974 21745 22544 9584  \n",
       "1                        21308 4947 21308  \n",
       "\n",
       "[2 rows x 29 columns]"
      ]
     },
     "execution_count": 86,
     "metadata": {},
     "output_type": "execute_result"
    }
   ],
   "source": [
    "merge = lambda x,y: pandas.merge(left=x, right=y, on='customer_id', how='inner')\n",
    "sequence = functools.reduce(merge, sequence)\n",
    "sequence.head(2)"
   ]
  },
  {
   "cell_type": "code",
   "execution_count": 87,
   "metadata": {},
   "outputs": [],
   "source": [
    "table['feature'] = pandas.merge(left=table['customer'], right=sequence, on='customer_id', how='outer')"
   ]
  },
  {
   "cell_type": "code",
   "execution_count": 88,
   "metadata": {},
   "outputs": [],
   "source": [
    "table['feature']['length'] = [str(int(i)) if(not pandas.isna(i)) else i for i in table['feature']['length']]"
   ]
  },
  {
   "cell_type": "code",
   "execution_count": 89,
   "metadata": {},
   "outputs": [
    {
     "data": {
      "text/html": [
       "<div>\n",
       "<style scoped>\n",
       "    .dataframe tbody tr th:only-of-type {\n",
       "        vertical-align: middle;\n",
       "    }\n",
       "\n",
       "    .dataframe tbody tr th {\n",
       "        vertical-align: top;\n",
       "    }\n",
       "\n",
       "    .dataframe thead th {\n",
       "        text-align: right;\n",
       "    }\n",
       "</style>\n",
       "<table border=\"1\" class=\"dataframe\">\n",
       "  <thead>\n",
       "    <tr style=\"text-align: right;\">\n",
       "      <th></th>\n",
       "      <th>customer_id</th>\n",
       "      <th>length</th>\n",
       "      <th>p1</th>\n",
       "      <th>p2</th>\n",
       "      <th>p3</th>\n",
       "      <th>p4</th>\n",
       "      <th>p5</th>\n",
       "      <th>p6</th>\n",
       "      <th>b1</th>\n",
       "      <th>b2</th>\n",
       "      <th>...</th>\n",
       "      <th>b18</th>\n",
       "      <th>b19</th>\n",
       "      <th>b20</th>\n",
       "      <th>b21</th>\n",
       "      <th>b22</th>\n",
       "      <th>b23</th>\n",
       "      <th>b24</th>\n",
       "      <th>b25</th>\n",
       "      <th>r1</th>\n",
       "      <th>r2</th>\n",
       "    </tr>\n",
       "  </thead>\n",
       "  <tbody>\n",
       "    <tr>\n",
       "      <th>0</th>\n",
       "      <td>0000423b00ade91418cceaf3b26c6af3dd342b51fd051e...</td>\n",
       "      <td>7</td>\n",
       "      <td>0.0</td>\n",
       "      <td>0.0</td>\n",
       "      <td>0</td>\n",
       "      <td>1</td>\n",
       "      <td>0.25</td>\n",
       "      <td>14294</td>\n",
       "      <td>8731 4290 8654 1585 11105 11585 4290</td>\n",
       "      <td>2035 8441 9450 11130 5767 5288 8441</td>\n",
       "      <td>...</td>\n",
       "      <td>3 3 2 3 2 2 3</td>\n",
       "      <td>3 3 4 3 4 4 3</td>\n",
       "      <td>36 36 4 36 4 2 36</td>\n",
       "      <td>14 14 46 14 46 54 14</td>\n",
       "      <td>12 13 10 4 4 4 13</td>\n",
       "      <td>14 5 3 9 9 9 5</td>\n",
       "      <td>7841 8513 7670 4448 5514 4393 8513</td>\n",
       "      <td>17865 9584 17725 3974 21745 22544 9584</td>\n",
       "      <td>0.11458452722063038 0.0429512893982808 0.05727...</td>\n",
       "      <td>3 3 3 3 3 3 3</td>\n",
       "    </tr>\n",
       "    <tr>\n",
       "      <th>1</th>\n",
       "      <td>000058a12d5b43e67d225668fa1f8d618c13dc232df0ca...</td>\n",
       "      <td>3</td>\n",
       "      <td>0.0</td>\n",
       "      <td>0.0</td>\n",
       "      <td>0</td>\n",
       "      <td>1</td>\n",
       "      <td>0.24</td>\n",
       "      <td>34910</td>\n",
       "      <td>10851 2075 10851</td>\n",
       "      <td>787 9744 787</td>\n",
       "      <td>...</td>\n",
       "      <td>2 2 2</td>\n",
       "      <td>4 4 4</td>\n",
       "      <td>43 43 43</td>\n",
       "      <td>48 48 48</td>\n",
       "      <td>16 16 16</td>\n",
       "      <td>20 20 20</td>\n",
       "      <td>4821 4835 4821</td>\n",
       "      <td>21308 4947 21308</td>\n",
       "      <td>0.08593123209169053 0.051547277936962746 0.085...</td>\n",
       "      <td>3 3 3</td>\n",
       "    </tr>\n",
       "  </tbody>\n",
       "</table>\n",
       "<p>2 rows × 35 columns</p>\n",
       "</div>"
      ],
      "text/plain": [
       "                                         customer_id length   p1   p2  p3  p4  \\\n",
       "0  0000423b00ade91418cceaf3b26c6af3dd342b51fd051e...      7  0.0  0.0   0   1   \n",
       "1  000058a12d5b43e67d225668fa1f8d618c13dc232df0ca...      3  0.0  0.0   0   1   \n",
       "\n",
       "     p5     p6                                    b1  \\\n",
       "0  0.25  14294  8731 4290 8654 1585 11105 11585 4290   \n",
       "1  0.24  34910                      10851 2075 10851   \n",
       "\n",
       "                                    b2  ...            b18            b19  \\\n",
       "0  2035 8441 9450 11130 5767 5288 8441  ...  3 3 2 3 2 2 3  3 3 4 3 4 4 3   \n",
       "1                         787 9744 787  ...          2 2 2          4 4 4   \n",
       "\n",
       "                 b20                   b21                b22             b23  \\\n",
       "0  36 36 4 36 4 2 36  14 14 46 14 46 54 14  12 13 10 4 4 4 13  14 5 3 9 9 9 5   \n",
       "1           43 43 43              48 48 48           16 16 16        20 20 20   \n",
       "\n",
       "                                  b24                                     b25  \\\n",
       "0  7841 8513 7670 4448 5514 4393 8513  17865 9584 17725 3974 21745 22544 9584   \n",
       "1                      4821 4835 4821                        21308 4947 21308   \n",
       "\n",
       "                                                  r1             r2  \n",
       "0  0.11458452722063038 0.0429512893982808 0.05727...  3 3 3 3 3 3 3  \n",
       "1  0.08593123209169053 0.051547277936962746 0.085...          3 3 3  \n",
       "\n",
       "[2 rows x 35 columns]"
      ]
     },
     "execution_count": 89,
     "metadata": {},
     "output_type": "execute_result"
    }
   ],
   "source": [
    "table['feature'] = table['feature'].rename(columns=claim)\n",
    "table['feature'] = table['feature'][claim.values()]\n",
    "table['feature'].head(2)"
   ]
  },
  {
   "cell_type": "code",
   "execution_count": 90,
   "metadata": {},
   "outputs": [
    {
     "name": "stdout",
     "output_type": "stream",
     "text": [
      "\u001b[95mcustomer_id\u001b[00m => \u001b[91mcustomer_id\u001b[00m\n",
      "\u001b[95mlength\u001b[00m => \u001b[91mlength\u001b[00m\n",
      "\u001b[95mFN\u001b[00m => \u001b[91mp1\u001b[00m\n",
      "\u001b[95mActive\u001b[00m => \u001b[91mp2\u001b[00m\n",
      "\u001b[95mclub_member_status\u001b[00m => \u001b[91mp3\u001b[00m\n",
      "\u001b[95mfashion_news_frequency\u001b[00m => \u001b[91mp4\u001b[00m\n",
      "\u001b[95mage\u001b[00m => \u001b[91mp5\u001b[00m\n",
      "\u001b[95mpostal_code\u001b[00m => \u001b[91mp6\u001b[00m\n",
      "\u001b[95mproduct_code\u001b[00m => \u001b[91mb1\u001b[00m\n",
      "\u001b[95mprod_name\u001b[00m => \u001b[91mb2\u001b[00m\n",
      "\u001b[95mproduct_type_no\u001b[00m => \u001b[91mb3\u001b[00m\n",
      "\u001b[95mproduct_type_name\u001b[00m => \u001b[91mb4\u001b[00m\n",
      "\u001b[95mproduct_group_name\u001b[00m => \u001b[91mb5\u001b[00m\n",
      "\u001b[95mgraphical_appearance_no\u001b[00m => \u001b[91mb6\u001b[00m\n",
      "\u001b[95mgraphical_appearance_name\u001b[00m => \u001b[91mb7\u001b[00m\n",
      "\u001b[95mcolour_group_code\u001b[00m => \u001b[91mb8\u001b[00m\n",
      "\u001b[95mcolour_group_name\u001b[00m => \u001b[91mb9\u001b[00m\n",
      "\u001b[95mperceived_colour_value_id\u001b[00m => \u001b[91mb10\u001b[00m\n",
      "\u001b[95mperceived_colour_value_name\u001b[00m => \u001b[91mb11\u001b[00m\n",
      "\u001b[95mperceived_colour_master_id\u001b[00m => \u001b[91mb12\u001b[00m\n",
      "\u001b[95mperceived_colour_master_name\u001b[00m => \u001b[91mb13\u001b[00m\n",
      "\u001b[95mdepartment_no\u001b[00m => \u001b[91mb14\u001b[00m\n",
      "\u001b[95mdepartment_name\u001b[00m => \u001b[91mb15\u001b[00m\n",
      "\u001b[95mindex_code\u001b[00m => \u001b[91mb16\u001b[00m\n",
      "\u001b[95mindex_name\u001b[00m => \u001b[91mb17\u001b[00m\n",
      "\u001b[95mindex_group_no\u001b[00m => \u001b[91mb18\u001b[00m\n",
      "\u001b[95mindex_group_name\u001b[00m => \u001b[91mb19\u001b[00m\n",
      "\u001b[95msection_no\u001b[00m => \u001b[91mb20\u001b[00m\n",
      "\u001b[95msection_name\u001b[00m => \u001b[91mb21\u001b[00m\n",
      "\u001b[95mgarment_group_no\u001b[00m => \u001b[91mb22\u001b[00m\n",
      "\u001b[95mgarment_group_name\u001b[00m => \u001b[91mb23\u001b[00m\n",
      "\u001b[95mdetail_desc\u001b[00m => \u001b[91mb24\u001b[00m\n",
      "\u001b[95marticle_label\u001b[00m => \u001b[91mb25\u001b[00m\n",
      "\u001b[95mprice\u001b[00m => \u001b[91mr1\u001b[00m\n",
      "\u001b[95msales_channel_id\u001b[00m => \u001b[91mr2\u001b[00m\n"
     ]
    }
   ],
   "source": [
    "for origin, column in claim.items():\n",
    "\n",
    "    message = \"\\033[95m{}\\033[00m => \\033[91m{}\\033[00m\".format(origin, column)\n",
    "    print(message)\n",
    "    continue"
   ]
  },
  {
   "cell_type": "code",
   "execution_count": 91,
   "metadata": {},
   "outputs": [],
   "source": [
    "folder = '../resource/preprocess/sample/csv/'\n",
    "os.makedirs(folder, exist_ok=True)\n",
    "table['feature'].dropna().to_csv(os.path.join(folder, \"feature(train).csv\"), index=False)\n",
    "table['feature'].dropna().head(100).to_csv(os.path.join(folder, \"feature(sample).csv\"), index=False)\n",
    "table['feature'].fillna(\"\").to_csv(os.path.join(folder, \"feature(all).csv\"), index=False)"
   ]
  },
  {
   "cell_type": "code",
   "execution_count": 92,
   "metadata": {},
   "outputs": [
    {
     "name": "stdout",
     "output_type": "stream",
     "text": [
      "(114870, 35)\n",
      "['customer_id', 'length', 'p1', 'p2', 'p3', 'p4', 'p5', 'p6', 'b1', 'b2', 'b3', 'b4', 'b5', 'b6', 'b7', 'b8', 'b9', 'b10', 'b11', 'b12', 'b13', 'b14', 'b15', 'b16', 'b17', 'b18', 'b19', 'b20', 'b21', 'b22', 'b23', 'b24', 'b25', 'r1', 'r2']\n"
     ]
    }
   ],
   "source": [
    "print(table['feature'].shape)\n",
    "print(table['feature'].columns.tolist())"
   ]
  },
  {
   "cell_type": "markdown",
   "metadata": {},
   "source": [
    "---"
   ]
  },
  {
   "cell_type": "code",
   "execution_count": null,
   "metadata": {},
   "outputs": [],
   "source": [
    "    # if(column in ['customer_id', 'length']): \n",
    "        \n",
    "    #     continue\n",
    "    \n",
    "    # if('p' in column): \n",
    "\n",
    "    #     max = table['feature'][column].max()\n",
    "    #     min = table['feature'][column].min()\n",
    "    #     unique = table['feature'][column].nunique()\n",
    "    #     message = \"[{}/{}] max:{} min:{} \\033[95munique:{}\\033[00m\".format(origin, column, max, min, unique)\n",
    "    #     print(message)\n",
    "    #     continue\n",
    "\n",
    "    # if('b' in column):\n",
    "\n",
    "    #     value = sorted(set([float(j) for i in table['feature'][column].dropna() for j in i.split()]))\n",
    "    #     min = int(value[0])\n",
    "    #     max = int(value[-1])\n",
    "    #     unique = len(value)\n",
    "    #     message = \"[{}/{}] \\033[95mmax:{}\\033[00m min:{} unique:{}\".format(origin, column, max, min, unique)\n",
    "    #     print(message)\n",
    "    #     continue"
   ]
  }
 ],
 "metadata": {
  "interpreter": {
   "hash": "6a804913f8a9cad8ea476991eba07878c0dc60e35a3e5c06b15c0b0bc7e7bb34"
  },
  "kernelspec": {
   "display_name": "Python 3.8.12 ('Kaggle')",
   "language": "python",
   "name": "python3"
  },
  "language_info": {
   "codemirror_mode": {
    "name": "ipython",
    "version": 3
   },
   "file_extension": ".py",
   "mimetype": "text/x-python",
   "name": "python",
   "nbconvert_exporter": "python",
   "pygments_lexer": "ipython3",
   "version": "3.8.12"
  },
  "orig_nbformat": 4
 },
 "nbformat": 4,
 "nbformat_minor": 2
}
