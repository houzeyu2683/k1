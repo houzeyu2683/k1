{
 "cells": [
  {
   "cell_type": "code",
   "execution_count": null,
   "metadata": {},
   "outputs": [],
   "source": [
    "import os\n",
    "import pandas\n",
    "import tqdm\n",
    "import functools\n",
    "from sklearn import preprocessing"
   ]
  },
  {
   "cell_type": "code",
   "execution_count": null,
   "metadata": {},
   "outputs": [],
   "source": [
    "source = '../resource/kaggle/sample/csv'\n",
    "table = {\n",
    "    'article':pandas.read_csv(os.path.join(source, 'articles.csv'), dtype=str),\n",
    "    'customer':pandas.read_csv(os.path.join(source, 'customers.csv'), dtype=str),\n",
    "    'transaction':pandas.read_csv(os.path.join(source, 'transactions_train.csv'), dtype=str),\n",
    "    'submission':pandas.read_csv(os.path.join(source, 'sample_submission.csv'), dtype=str)\n",
    "}"
   ]
  },
  {
   "cell_type": "markdown",
   "metadata": {},
   "source": [
    "# Missing"
   ]
  },
  {
   "cell_type": "code",
   "execution_count": null,
   "metadata": {},
   "outputs": [],
   "source": [
    "table['article']['detail_desc'].fillna('miss_detail_desc', inplace=True)\n",
    "table['customer']['FN'].fillna(\"0.0\", inplace=True)\n",
    "table['customer']['Active'].fillna(\"0.0\", inplace=True)\n",
    "table['customer']['fashion_news_frequency'].fillna(\"NONE\", inplace=True)\n",
    "table['customer']['age'].fillna(\"-1\", inplace=True)\n",
    "table['customer']['postal_code'].fillna('miss_postal_code', inplace=True)"
   ]
  },
  {
   "cell_type": "markdown",
   "metadata": {},
   "source": [
    "# Numeralization"
   ]
  },
  {
   "cell_type": "code",
   "execution_count": null,
   "metadata": {},
   "outputs": [],
   "source": [
    "table['article'][\"article_label\"] = table['article']['article_id']\n",
    "for key in table['article']:\n",
    "\n",
    "    if(key=='article_id'): continue\n",
    "\n",
    "    skip = 10\n",
    "    engine = preprocessing.LabelEncoder()\n",
    "    engine.fit(table['article'][key])\n",
    "    value = engine.transform(table['article'][key])\n",
    "    table['article'][key] = value + skip\n",
    "    continue"
   ]
  },
  {
   "cell_type": "code",
   "execution_count": null,
   "metadata": {},
   "outputs": [],
   "source": [
    "table['customer']['FN'] = table['customer']['FN'].astype(float)\n",
    "table['customer']['Active'] = table['customer']['Active'].astype(float)\n",
    "table['customer']['age'] = table['customer']['age'].astype(float) / 100\n",
    "for key in table['customer']:\n",
    "\n",
    "    if(key in ['customer_id', \"FN\", \"Active\", 'age']): continue\n",
    "\n",
    "    skip = 10\n",
    "    engine = preprocessing.LabelEncoder()\n",
    "    engine.fit(table['customer'][key])\n",
    "    value = engine.transform(table['customer'][key])\n",
    "    table['customer'][key] = value + skip\n",
    "    continue"
   ]
  },
  {
   "cell_type": "code",
   "execution_count": null,
   "metadata": {},
   "outputs": [],
   "source": [
    "table['transaction']['t_dat'] = pandas.to_datetime(table['transaction']['t_dat'])\n",
    "value = table['transaction']['price'].astype(float).copy()\n",
    "value = value / value.max()\n",
    "table['transaction']['price'] = value\n",
    "for key in table['transaction']:\n",
    "    \n",
    "    if(key in ['t_dat', \"customer_id\", \"article_id\", 'price']): continue\n",
    "\n",
    "    skip = 10\n",
    "    engine = preprocessing.LabelEncoder()\n",
    "    engine.fit(table['transaction'][key])\n",
    "    value = engine.transform(table['transaction'][key])\n",
    "    table['transaction'][key] = value + skip\n",
    "    continue"
   ]
  },
  {
   "cell_type": "markdown",
   "metadata": {},
   "source": [
    "# Feature with user base"
   ]
  },
  {
   "cell_type": "code",
   "execution_count": null,
   "metadata": {},
   "outputs": [],
   "source": [
    "paste = lambda x: \" \".join(x)"
   ]
  },
  {
   "cell_type": "code",
   "execution_count": null,
   "metadata": {},
   "outputs": [],
   "source": [
    "sequence = []"
   ]
  },
  {
   "cell_type": "code",
   "execution_count": null,
   "metadata": {},
   "outputs": [],
   "source": [
    "table['transaction']['price'] = table['transaction']['price'].astype(str)\n",
    "table['transaction']['sales_channel_id'] = table['transaction']['sales_channel_id'].astype(str)\n",
    "sequence += [table['transaction'].groupby(['customer_id', 't_dat'])['price'].apply(paste).reset_index().groupby(['customer_id'])['price'].apply(paste).reset_index()]\n",
    "sequence += [table['transaction'].groupby(['customer_id', 't_dat'])['sales_channel_id'].apply(paste).reset_index().groupby(['customer_id'])['sales_channel_id'].apply(paste).reset_index()]"
   ]
  },
  {
   "cell_type": "code",
   "execution_count": null,
   "metadata": {},
   "outputs": [],
   "source": [
    "for key in tqdm.tqdm(table['article'].keys()):\n",
    "\n",
    "    if(key=='article_id'): continue\n",
    "\n",
    "    table['article'][key] = table['article'][key].astype(str)\n",
    "    selection = table['transaction'][['t_dat', \"customer_id\", \"article_id\"]].copy()\n",
    "    selection = pandas.merge(selection, table['article'][[\"article_id\", key]], on=\"article_id\", how='inner')\n",
    "    sequence += [selection.groupby(['customer_id', 't_dat'])[key].apply(paste).reset_index().groupby(['customer_id'])[key].apply(paste).reset_index()]\n",
    "    continue"
   ]
  },
  {
   "cell_type": "code",
   "execution_count": null,
   "metadata": {},
   "outputs": [],
   "source": [
    "merge = lambda x,y: pandas.merge(left=x, right=y, on='customer_id', how='inner')\n",
    "sequence = functools.reduce(merge, sequence)\n",
    "sequence.head(4)"
   ]
  },
  {
   "cell_type": "code",
   "execution_count": 27,
   "metadata": {},
   "outputs": [],
   "source": [
    "table['feature'] = pandas.merge(left=table['customer'], right=sequence, on='customer_id', how='outer')"
   ]
  },
  {
   "cell_type": "code",
   "execution_count": 28,
   "metadata": {},
   "outputs": [],
   "source": [
    "folder = '../resource/preprocess/csv/'\n",
    "os.makedirs(folder, exist_ok=True)\n",
    "table['feature'].dropna().to_csv(os.path.join(folder, \"feature(train).csv\"), index=False)\n",
    "table['feature'].fillna(\"\").to_csv(os.path.join(folder, \"feature(all).csv\"), index=False)"
   ]
  },
  {
   "cell_type": "markdown",
   "metadata": {},
   "source": [
    "---"
   ]
  }
 ],
 "metadata": {
  "interpreter": {
   "hash": "6a804913f8a9cad8ea476991eba07878c0dc60e35a3e5c06b15c0b0bc7e7bb34"
  },
  "kernelspec": {
   "display_name": "Python 3.8.12 ('Kaggle')",
   "language": "python",
   "name": "python3"
  },
  "language_info": {
   "codemirror_mode": {
    "name": "ipython",
    "version": 3
   },
   "file_extension": ".py",
   "mimetype": "text/x-python",
   "name": "python",
   "nbconvert_exporter": "python",
   "pygments_lexer": "ipython3",
   "version": "3.8.12"
  },
  "orig_nbformat": 4
 },
 "nbformat": 4,
 "nbformat_minor": 2
}
