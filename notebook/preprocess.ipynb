{
 "cells": [
  {
   "cell_type": "code",
   "execution_count": 1,
   "metadata": {},
   "outputs": [],
   "source": [
    "import os\n",
    "import pandas\n",
    "import tqdm\n",
    "import functools\n",
    "from sklearn import preprocessing"
   ]
  },
  {
   "cell_type": "code",
   "execution_count": 2,
   "metadata": {},
   "outputs": [],
   "source": [
    "source = '../resource/kaggle/sample/csv'\n",
    "table = {\n",
    "    'article':pandas.read_csv(os.path.join(source, 'articles.csv'), dtype=str),\n",
    "    'customer':pandas.read_csv(os.path.join(source, 'customers.csv'), dtype=str),\n",
    "    'transaction':pandas.read_csv(os.path.join(source, 'transactions_train.csv'), dtype=str),\n",
    "    'submission':pandas.read_csv(os.path.join(source, 'sample_submission.csv'), dtype=str)\n",
    "}"
   ]
  },
  {
   "cell_type": "markdown",
   "metadata": {},
   "source": [
    "# Missing"
   ]
  },
  {
   "cell_type": "code",
   "execution_count": 3,
   "metadata": {},
   "outputs": [],
   "source": [
    "table['article']['detail_desc'].fillna('miss_detail_desc', inplace=True)\n",
    "table['customer']['FN'].fillna(\"0.0\", inplace=True)\n",
    "table['customer']['Active'].fillna(\"0.0\", inplace=True)\n",
    "table['customer']['fashion_news_frequency'].fillna(\"NONE\", inplace=True)\n",
    "table['customer']['age'].fillna(\"-1\", inplace=True)\n",
    "table['customer']['postal_code'].fillna('miss_postal_code', inplace=True)"
   ]
  },
  {
   "cell_type": "markdown",
   "metadata": {},
   "source": [
    "# Numeralization"
   ]
  },
  {
   "cell_type": "code",
   "execution_count": 4,
   "metadata": {},
   "outputs": [],
   "source": [
    "table['article'][\"article_label\"] = table['article']['article_id']\n",
    "for key in table['article']:\n",
    "\n",
    "    if(key=='article_id'): continue\n",
    "\n",
    "    skip = 10\n",
    "    engine = preprocessing.LabelEncoder()\n",
    "    engine.fit(table['article'][key])\n",
    "    value = engine.transform(table['article'][key])\n",
    "    table['article'][key] = value + skip\n",
    "    continue"
   ]
  },
  {
   "cell_type": "code",
   "execution_count": 5,
   "metadata": {},
   "outputs": [],
   "source": [
    "table['customer']['FN'] = table['customer']['FN'].astype(float)\n",
    "table['customer']['Active'] = table['customer']['Active'].astype(float)\n",
    "table['customer']['age'] = table['customer']['age'].astype(float) / 100\n",
    "for key in table['customer']:\n",
    "\n",
    "    if(key in ['customer_id', \"FN\", \"Active\", 'age']): continue\n",
    "\n",
    "    skip = 10\n",
    "    engine = preprocessing.LabelEncoder()\n",
    "    engine.fit(table['customer'][key])\n",
    "    value = engine.transform(table['customer'][key])\n",
    "    table['customer'][key] = value + skip\n",
    "    continue"
   ]
  },
  {
   "cell_type": "code",
   "execution_count": 6,
   "metadata": {},
   "outputs": [],
   "source": [
    "table['transaction']['t_dat'] = pandas.to_datetime(table['transaction']['t_dat'])\n",
    "value = table['transaction']['price'].astype(float).copy()\n",
    "value = value / value.max()\n",
    "table['transaction']['price'] = value\n",
    "for key in table['transaction']:\n",
    "    \n",
    "    if(key in ['t_dat', \"customer_id\", \"article_id\", 'price']): continue\n",
    "\n",
    "    skip = 10\n",
    "    engine = preprocessing.LabelEncoder()\n",
    "    engine.fit(table['transaction'][key])\n",
    "    value = engine.transform(table['transaction'][key])\n",
    "    table['transaction'][key] = value + skip\n",
    "    continue"
   ]
  },
  {
   "cell_type": "markdown",
   "metadata": {},
   "source": [
    "# Feature with user base"
   ]
  },
  {
   "cell_type": "code",
   "execution_count": 7,
   "metadata": {},
   "outputs": [],
   "source": [
    "paste = lambda x: \" \".join(x)"
   ]
  },
  {
   "cell_type": "code",
   "execution_count": 8,
   "metadata": {},
   "outputs": [],
   "source": [
    "sequence = []"
   ]
  },
  {
   "cell_type": "code",
   "execution_count": 9,
   "metadata": {},
   "outputs": [],
   "source": [
    "table['transaction']['price'] = table['transaction']['price'].astype(str)\n",
    "table['transaction']['sales_channel_id'] = table['transaction']['sales_channel_id'].astype(str)\n",
    "sequence += [table['transaction'].groupby(['customer_id', 't_dat'])['price'].apply(paste).reset_index().drop(columns='t_dat')]\n",
    "sequence += [table['transaction'].groupby(['customer_id', 't_dat'])['sales_channel_id'].apply(paste).reset_index().drop(columns='t_dat')]"
   ]
  },
  {
   "cell_type": "code",
   "execution_count": 10,
   "metadata": {},
   "outputs": [
    {
     "name": "stderr",
     "output_type": "stream",
     "text": [
      "100%|██████████| 26/26 [04:05<00:00,  9.46s/it]\n"
     ]
    }
   ],
   "source": [
    "for key in tqdm.tqdm(table['article'].keys()):\n",
    "\n",
    "    if(key=='article_id'): continue\n",
    "\n",
    "    table['article'][key] = table['article'][key].astype(str)\n",
    "    selection = table['transaction'][['t_dat', \"customer_id\", \"article_id\"]].copy()\n",
    "    selection = pandas.merge(selection, table['article'][[\"article_id\", key]], on=\"article_id\", how='inner')\n",
    "    sequence += [selection.groupby(['customer_id', 't_dat'])[key].apply(paste).reset_index().drop(columns='t_dat')]\n",
    "    continue"
   ]
  },
  {
   "cell_type": "code",
   "execution_count": 12,
   "metadata": {},
   "outputs": [
    {
     "data": {
      "text/html": [
       "<div>\n",
       "<style scoped>\n",
       "    .dataframe tbody tr th:only-of-type {\n",
       "        vertical-align: middle;\n",
       "    }\n",
       "\n",
       "    .dataframe tbody tr th {\n",
       "        vertical-align: top;\n",
       "    }\n",
       "\n",
       "    .dataframe thead th {\n",
       "        text-align: right;\n",
       "    }\n",
       "</style>\n",
       "<table border=\"1\" class=\"dataframe\">\n",
       "  <thead>\n",
       "    <tr style=\"text-align: right;\">\n",
       "      <th></th>\n",
       "      <th>customer_id</th>\n",
       "      <th>price</th>\n",
       "      <th>sales_channel_id</th>\n",
       "      <th>product_code</th>\n",
       "      <th>prod_name</th>\n",
       "      <th>product_type_no</th>\n",
       "    </tr>\n",
       "  </thead>\n",
       "  <tbody>\n",
       "    <tr>\n",
       "      <th>0</th>\n",
       "      <td>0000423b00ade91418cceaf3b26c6af3dd342b51fd051e...</td>\n",
       "      <td>0.11458452722063038 0.0429512893982808 0.05727...</td>\n",
       "      <td>11 11 11</td>\n",
       "      <td>10862 5520 10778</td>\n",
       "      <td>2492 10371 11591</td>\n",
       "      <td>39 31 25</td>\n",
       "    </tr>\n",
       "    <tr>\n",
       "      <th>1</th>\n",
       "      <td>0000423b00ade91418cceaf3b26c6af3dd342b51fd051e...</td>\n",
       "      <td>0.11458452722063038 0.0429512893982808 0.05727...</td>\n",
       "      <td>11 11 11</td>\n",
       "      <td>10862 5520 10778</td>\n",
       "      <td>2492 10371 11591</td>\n",
       "      <td>18 18</td>\n",
       "    </tr>\n",
       "    <tr>\n",
       "      <th>2</th>\n",
       "      <td>0000423b00ade91418cceaf3b26c6af3dd342b51fd051e...</td>\n",
       "      <td>0.11458452722063038 0.0429512893982808 0.05727...</td>\n",
       "      <td>11 11 11</td>\n",
       "      <td>10862 5520 10778</td>\n",
       "      <td>2492 10371 11591</td>\n",
       "      <td>18 31</td>\n",
       "    </tr>\n",
       "    <tr>\n",
       "      <th>3</th>\n",
       "      <td>0000423b00ade91418cceaf3b26c6af3dd342b51fd051e...</td>\n",
       "      <td>0.11458452722063038 0.0429512893982808 0.05727...</td>\n",
       "      <td>11 11 11</td>\n",
       "      <td>10862 5520 10778</td>\n",
       "      <td>2492 10371 11591</td>\n",
       "      <td>18</td>\n",
       "    </tr>\n",
       "    <tr>\n",
       "      <th>4</th>\n",
       "      <td>0000423b00ade91418cceaf3b26c6af3dd342b51fd051e...</td>\n",
       "      <td>0.11458452722063038 0.0429512893982808 0.05727...</td>\n",
       "      <td>11 11 11</td>\n",
       "      <td>10862 5520 10778</td>\n",
       "      <td>13709 7107</td>\n",
       "      <td>39 31 25</td>\n",
       "    </tr>\n",
       "    <tr>\n",
       "      <th>...</th>\n",
       "      <td>...</td>\n",
       "      <td>...</td>\n",
       "      <td>...</td>\n",
       "      <td>...</td>\n",
       "      <td>...</td>\n",
       "      <td>...</td>\n",
       "    </tr>\n",
       "    <tr>\n",
       "      <th>9877980</th>\n",
       "      <td>fffe7116f9f68e8ad287fd7b6e33aad4871d7080e77d2d...</td>\n",
       "      <td>0.06873925501432664 0.03722063037249284 0.0429...</td>\n",
       "      <td>11 11 11 11 11</td>\n",
       "      <td>15253 3028 4770 2065 3027</td>\n",
       "      <td>8703 8681 13935 4210 8752</td>\n",
       "      <td>37 36 36 31 36</td>\n",
       "    </tr>\n",
       "    <tr>\n",
       "      <th>9877981</th>\n",
       "      <td>fffec3dbcc87c78300f37f62cfca4274f1ea6ef59dba10...</td>\n",
       "      <td>0.01716332378223496 0.02289398280802292</td>\n",
       "      <td>11 11</td>\n",
       "      <td>3665 12608</td>\n",
       "      <td>5682 9793</td>\n",
       "      <td>61 39</td>\n",
       "    </tr>\n",
       "    <tr>\n",
       "      <th>9877982</th>\n",
       "      <td>fffed13f041cc91f74dc6ec4e3267d7bb71bc833d53b7d...</td>\n",
       "      <td>0.14323782234957022</td>\n",
       "      <td>11</td>\n",
       "      <td>13086</td>\n",
       "      <td>13506</td>\n",
       "      <td>36</td>\n",
       "    </tr>\n",
       "    <tr>\n",
       "      <th>9877983</th>\n",
       "      <td>ffffcd5046a6143d29a04fb8c424ce494a76e5cdf4fab5...</td>\n",
       "      <td>0.10885386819484241</td>\n",
       "      <td>10</td>\n",
       "      <td>14106</td>\n",
       "      <td>2876</td>\n",
       "      <td>101</td>\n",
       "    </tr>\n",
       "    <tr>\n",
       "      <th>9877984</th>\n",
       "      <td>ffffcf35913a0bee60e8741cb2b4e78b8a98ee5ff2e6a1...</td>\n",
       "      <td>0.07160458452722063</td>\n",
       "      <td>10</td>\n",
       "      <td>4362</td>\n",
       "      <td>6431</td>\n",
       "      <td>36</td>\n",
       "    </tr>\n",
       "  </tbody>\n",
       "</table>\n",
       "<p>9877985 rows × 6 columns</p>\n",
       "</div>"
      ],
      "text/plain": [
       "                                               customer_id  \\\n",
       "0        0000423b00ade91418cceaf3b26c6af3dd342b51fd051e...   \n",
       "1        0000423b00ade91418cceaf3b26c6af3dd342b51fd051e...   \n",
       "2        0000423b00ade91418cceaf3b26c6af3dd342b51fd051e...   \n",
       "3        0000423b00ade91418cceaf3b26c6af3dd342b51fd051e...   \n",
       "4        0000423b00ade91418cceaf3b26c6af3dd342b51fd051e...   \n",
       "...                                                    ...   \n",
       "9877980  fffe7116f9f68e8ad287fd7b6e33aad4871d7080e77d2d...   \n",
       "9877981  fffec3dbcc87c78300f37f62cfca4274f1ea6ef59dba10...   \n",
       "9877982  fffed13f041cc91f74dc6ec4e3267d7bb71bc833d53b7d...   \n",
       "9877983  ffffcd5046a6143d29a04fb8c424ce494a76e5cdf4fab5...   \n",
       "9877984  ffffcf35913a0bee60e8741cb2b4e78b8a98ee5ff2e6a1...   \n",
       "\n",
       "                                                     price sales_channel_id  \\\n",
       "0        0.11458452722063038 0.0429512893982808 0.05727...         11 11 11   \n",
       "1        0.11458452722063038 0.0429512893982808 0.05727...         11 11 11   \n",
       "2        0.11458452722063038 0.0429512893982808 0.05727...         11 11 11   \n",
       "3        0.11458452722063038 0.0429512893982808 0.05727...         11 11 11   \n",
       "4        0.11458452722063038 0.0429512893982808 0.05727...         11 11 11   \n",
       "...                                                    ...              ...   \n",
       "9877980  0.06873925501432664 0.03722063037249284 0.0429...   11 11 11 11 11   \n",
       "9877981            0.01716332378223496 0.02289398280802292            11 11   \n",
       "9877982                                0.14323782234957022               11   \n",
       "9877983                                0.10885386819484241               10   \n",
       "9877984                                0.07160458452722063               10   \n",
       "\n",
       "                      product_code                  prod_name product_type_no  \n",
       "0                 10862 5520 10778           2492 10371 11591        39 31 25  \n",
       "1                 10862 5520 10778           2492 10371 11591           18 18  \n",
       "2                 10862 5520 10778           2492 10371 11591           18 31  \n",
       "3                 10862 5520 10778           2492 10371 11591              18  \n",
       "4                 10862 5520 10778                 13709 7107        39 31 25  \n",
       "...                            ...                        ...             ...  \n",
       "9877980  15253 3028 4770 2065 3027  8703 8681 13935 4210 8752  37 36 36 31 36  \n",
       "9877981                 3665 12608                  5682 9793           61 39  \n",
       "9877982                      13086                      13506              36  \n",
       "9877983                      14106                       2876             101  \n",
       "9877984                       4362                       6431              36  \n",
       "\n",
       "[9877985 rows x 6 columns]"
      ]
     },
     "execution_count": 12,
     "metadata": {},
     "output_type": "execute_result"
    }
   ],
   "source": [
    "merge = lambda x,y: pandas.merge(left=x, right=y, on='customer_id', how='inner')\n",
    "functools.reduce(merge, sequence[0:5])\n",
    "# sequence = functools.reduce(merge, sequence)\n",
    "# sequence.head(4)"
   ]
  },
  {
   "cell_type": "code",
   "execution_count": null,
   "metadata": {},
   "outputs": [],
   "source": [
    "sequence"
   ]
  },
  {
   "cell_type": "code",
   "execution_count": null,
   "metadata": {},
   "outputs": [],
   "source": [
    "table['feature'] = pandas.merge(left=table['customer'], right=sequence, on='customer_id', how='outer')"
   ]
  },
  {
   "cell_type": "code",
   "execution_count": null,
   "metadata": {},
   "outputs": [],
   "source": [
    "folder = '../resource/preprocess/csv/'\n",
    "os.makedirs(folder, exist_ok=True)\n",
    "table['feature'].dropna().to_csv(os.path.join(folder, \"feature(train).csv\"), index=False)\n",
    "table['feature'].fillna(\"\").to_csv(os.path.join(folder, \"feature(all).csv\"), index=False)"
   ]
  }
 ],
 "metadata": {
  "interpreter": {
   "hash": "6a804913f8a9cad8ea476991eba07878c0dc60e35a3e5c06b15c0b0bc7e7bb34"
  },
  "kernelspec": {
   "display_name": "Python 3.8.12 ('Kaggle')",
   "language": "python",
   "name": "python3"
  },
  "language_info": {
   "codemirror_mode": {
    "name": "ipython",
    "version": 3
   },
   "file_extension": ".py",
   "mimetype": "text/x-python",
   "name": "python",
   "nbconvert_exporter": "python",
   "pygments_lexer": "ipython3",
   "version": "3.8.12"
  },
  "orig_nbformat": 4
 },
 "nbformat": 4,
 "nbformat_minor": 2
}
